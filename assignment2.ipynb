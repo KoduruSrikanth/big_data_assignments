{
 "cells": [
  {
   "cell_type": "code",
   "execution_count": null,
   "metadata": {},
   "outputs": [],
   "source": [
    "import pandas as pd\n",
    "# i did the cassandra driver installed - conda install cassandra-driver\n",
    "from cassandra.cluster import Cluster"
   ]
  },
  {
   "cell_type": "code",
   "execution_count": null,
   "metadata": {},
   "outputs": [],
   "source": [
    "# creating the cassandra cluster\n",
    "cluster = Cluster()\n",
    "session = cluster.connect()"
   ]
  },
  {
   "cell_type": "code",
   "execution_count": null,
   "metadata": {},
   "outputs": [],
   "source": [
    "session.execute(\"DROP KEYSPACE IF EXISTS m14\")"
   ]
  },
  {
   "cell_type": "code",
   "execution_count": null,
   "metadata": {},
   "outputs": [],
   "source": [
    "# key space is nothing but a database\n",
    "session.execute(\"\"\"CREATE KEYSPACE m14 WITH REPLICATION = {\n",
    "                'class':'SimpleStrategy',\n",
    "                'replication_factor': 2 \n",
    "}\"\"\")"
   ]
  },
  {
   "cell_type": "code",
   "execution_count": null,
   "metadata": {},
   "outputs": [],
   "source": [
    "# we can see what all keyspaces are there in the system using this command\n",
    "rows = session.execute(\"desc keyspaces\")\n",
    "for i in rows:\n",
    "    print(f\"{i[0]}\")"
   ]
  },
  {
   "cell_type": "code",
   "execution_count": null,
   "metadata": {},
   "outputs": [],
   "source": [
    "# creating the table\n",
    "session.execute(\"\"\"\n",
    "CREATE TABLE IF NOT EXISTS m14.warehouse_inventory(\n",
    "                sku INT,\n",
    "                name TEXT,\n",
    "                description TEXT,\n",
    "                warehouse_num INT,\n",
    "                PRIMARY KEY(sku, warehouse_num)\n",
    ");\n",
    "\"\"\")"
   ]
  },
  {
   "cell_type": "code",
   "execution_count": null,
   "metadata": {},
   "outputs": [],
   "source": [
    "# creating adummy data\n",
    "data = [\n",
    "    (1, 'chocklate', 'manufactured by melody', 1234),\n",
    "    (2, 'biscuits', 'made by parle', 1235),\n",
    "    (3, 'icecream', 'manufacturer: coldstone', 1236),\n",
    "    (4, 'waffles', 'made by yummy inc', 1237),\n",
    "    (5, 'beans', 'black beans', 1238),\n",
    "    (6, 'spinach', 'fresh leafy vegetable', 1239),\n",
    "    (7, 'chicken', 'chicken breasts', 1239),\n",
    "    (8, 'fish', 'frozen salmon', 1239)\n",
    "]\n",
    "\n",
    "# i created a dataframe for the dummy data\n",
    "df = pd.DataFrame(data, columns=['sku', 'name',\n",
    "                  'description', 'warehouse_num'])"
   ]
  },
  {
   "cell_type": "code",
   "execution_count": null,
   "metadata": {},
   "outputs": [],
   "source": [
    "df"
   ]
  },
  {
   "cell_type": "code",
   "execution_count": null,
   "metadata": {},
   "outputs": [],
   "source": [
    "# Inserting the dummy data from the pandas data frame\n",
    "for row in data:\n",
    "    session.execute(\n",
    "        \"\"\"\n",
    "        INSERT INTO m14.warehouse_inventory (sku, name, description, warehouse_num)\n",
    "        VALUES (%s, %s, %s, %s)\n",
    "        \"\"\",\n",
    "        (row[0], row[1], row[2], row[3])\n",
    "    )"
   ]
  },
  {
   "cell_type": "code",
   "execution_count": null,
   "metadata": {},
   "outputs": [],
   "source": [
    "# i have created an index on the warehouse_num column for faster data retrival\n",
    "session.execute(\"CREATE INDEX ON m14.warehouse_inventory(warehouse_num)\")"
   ]
  },
  {
   "cell_type": "code",
   "execution_count": null,
   "metadata": {},
   "outputs": [],
   "source": [
    "# i wrote a query to find out all the records that are in the warehouse 1239\n",
    "rows = session.execute(\n",
    "    \"select (sku, name, description, warehouse_num) from m14.warehouse_inventory where warehouse_num = 1239;\")"
   ]
  },
  {
   "cell_type": "code",
   "execution_count": null,
   "metadata": {},
   "outputs": [],
   "source": [
    "for row in rows:\n",
    "    print(f\"{row[0][0]}, {row[0][1]}, {row[0][2]}, {row[0][3]}\")"
   ]
  }
 ],
 "metadata": {
  "language_info": {
   "name": "python"
  },
  "orig_nbformat": 4
 },
 "nbformat": 4,
 "nbformat_minor": 2
}
# hellohkkjgfkfj
